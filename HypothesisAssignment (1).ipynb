{
  "nbformat": 4,
  "nbformat_minor": 0,
  "metadata": {
    "colab": {
      "provenance": []
    },
    "kernelspec": {
      "name": "python3",
      "display_name": "Python 3"
    },
    "language_info": {
      "name": "python"
    }
  },
  "cells": [
    {
      "cell_type": "code",
      "execution_count": null,
      "metadata": {
        "id": "G8ADzVEw5zGT"
      },
      "outputs": [],
      "source": [
        "# importing libraries\n",
        "\n",
        "import pandas as pd\n",
        "import numpy as np\n",
        "from scipy import stats"
      ]
    },
    {
      "cell_type": "code",
      "source": [
        "#Data Provided\n",
        "\n",
        "sample_mean = 3050\n",
        "theoretical_mean_W = 1000 + 5 * 600\n",
        "std_deviation = 5 * 25\n",
        "\n",
        "\n"
      ],
      "metadata": {
        "id": "OSx22KfM6Pz8"
      },
      "execution_count": null,
      "outputs": []
    },
    {
      "cell_type": "code",
      "source": [
        "#  t = (sample_mean - theoretical_mean_W) / (std_deviation/ sqrt(n))"
      ],
      "metadata": {
        "id": "UHkkNxM-8NEP"
      },
      "execution_count": null,
      "outputs": []
    },
    {
      "cell_type": "code",
      "source": [
        "from scipy.stats import norm\n",
        "\n",
        "alpha = 0.05\n",
        "critical_value = norm.ppf(1 - alpha)\n",
        "\n",
        "print(\"Critical Value:\", critical_value)\n"
      ],
      "metadata": {
        "id": "-AJL00YJ93po",
        "colab": {
          "base_uri": "https://localhost:8080/"
        },
        "outputId": "62bf27dc-6589-4243-c66c-4dd649bdb591"
      },
      "execution_count": null,
      "outputs": [
        {
          "output_type": "stream",
          "name": "stdout",
          "text": [
            "Critical Value: 1.6448536269514722\n"
          ]
        }
      ]
    },
    {
      "cell_type": "code",
      "source": [
        "# calculating Test Statistics:\n",
        "\n",
        "import numpy as np\n",
        "\n",
        "sample_mean = 3050\n",
        "theoretical_mean = 1000 + 5 * 600\n",
        "standard_error = 5 * 25 / np.sqrt(25)\n",
        "\n",
        "t = (sample_mean - theoretical_mean) / standard_error\n",
        "\n",
        "t = (3050 -(1000 + 5*600))/(5*25/np.sqrt(25))\n",
        "\n",
        "\n",
        "\n"
      ],
      "metadata": {
        "id": "xu0dPokVCpKk"
      },
      "execution_count": null,
      "outputs": []
    },
    {
      "cell_type": "code",
      "source": [
        "#Conclusion:\n",
        "\n",
        "if t > critical_value:\n",
        "    decision = (\"Reject the null hypothesis. There is evidence of an increase in weekly operating costs.\")\n",
        "else:\n",
        "    decision = (\"Fail to reject the null hypothesis. There is no evidence of an increase in weekly operating costs.\")\n",
        "\n",
        "print(\"t_value = \",t)\n",
        "print(\"Critical Value:\", critical_value)\n",
        "print(\"Decision:\", decision)"
      ],
      "metadata": {
        "colab": {
          "base_uri": "https://localhost:8080/"
        },
        "id": "2GomUMFfDue_",
        "outputId": "b923b5ed-3862-42bf-ec60-467a1e639408"
      },
      "execution_count": null,
      "outputs": [
        {
          "output_type": "stream",
          "name": "stdout",
          "text": [
            "t_value =  -38.0\n",
            "Critical Value: 1.645\n",
            "Decision: Fail to reject the null hypothesis. There is no evidence of an increase in weekly operating costs.\n"
          ]
        }
      ]
    },
    {
      "cell_type": "code",
      "source": [],
      "metadata": {
        "id": "AaHgVPgDE6nw"
      },
      "execution_count": null,
      "outputs": []
    }
  ]
}