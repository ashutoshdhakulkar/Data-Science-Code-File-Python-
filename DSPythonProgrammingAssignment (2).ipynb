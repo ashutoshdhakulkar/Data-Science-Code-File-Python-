{
  "nbformat": 4,
  "nbformat_minor": 0,
  "metadata": {
    "colab": {
      "provenance": []
    },
    "kernelspec": {
      "name": "python3",
      "display_name": "Python 3"
    },
    "language_info": {
      "name": "python"
    }
  },
  "cells": [
    {
      "cell_type": "code",
      "execution_count": null,
      "metadata": {
        "id": "SpGiIAggF5gm"
      },
      "outputs": [],
      "source": [
        "# Solution to Exercise 1:"
      ]
    },
    {
      "cell_type": "code",
      "source": [
        "def is_prime(num):\n",
        "  if num <=1:           #condition for non-prime number\n",
        "    return False\n",
        "  for i in range(2,num):\n",
        "    if num % i == 0:\n",
        "      return False\n",
        "  else:\n",
        "    return True\n",
        "num= int(input(\"Enter a number :\"))\n",
        "\n",
        "if is_prime(num):\n",
        "  print(num, \"is a prime number.\")\n",
        "else:\n",
        "  print(num, \"is not a prime number.\")"
      ],
      "metadata": {
        "id": "iHov-thWGOpI"
      },
      "execution_count": null,
      "outputs": []
    },
    {
      "cell_type": "code",
      "source": [],
      "metadata": {
        "id": "9zoCFzCmJAGL"
      },
      "execution_count": null,
      "outputs": []
    },
    {
      "cell_type": "code",
      "source": [
        "# Solution to Exercise 2:"
      ],
      "metadata": {
        "id": "ICdcwnTEGOsZ"
      },
      "execution_count": null,
      "outputs": []
    },
    {
      "cell_type": "code",
      "source": [
        "import random"
      ],
      "metadata": {
        "id": "q1Dim1kiGOtN"
      },
      "execution_count": null,
      "outputs": []
    },
    {
      "cell_type": "code",
      "source": [
        "num1 = random.randint(1,20)   #importing random numbers\n",
        "num2 = random.randint(1,20)\n",
        "\n",
        "product= num1 * num2    #product of any 2 random numbers\n",
        "\n",
        "useranswer = int(input(\"Enter the product of num1 and num 2 :\"))  #user input\n",
        "\n",
        "if useranswer == product:\n",
        "  print(\"Your answer is correct.\",product)\n",
        "else:\n",
        "  print(\"Your answer is incorrect.\",product)"
      ],
      "metadata": {
        "id": "ZCLeCYcUGOxS"
      },
      "execution_count": null,
      "outputs": []
    },
    {
      "cell_type": "code",
      "source": [],
      "metadata": {
        "id": "H3AdJ7FcLDMG"
      },
      "execution_count": null,
      "outputs": []
    },
    {
      "cell_type": "code",
      "source": [
        "#Solution to exercise 3:"
      ],
      "metadata": {
        "id": "zOGDcQPrLeLv"
      },
      "execution_count": null,
      "outputs": []
    },
    {
      "cell_type": "code",
      "source": [
        "for num in range(100,200):\n",
        "  if num % 2 == 0:   #for even numbers\n",
        "    print(num**2)"
      ],
      "metadata": {
        "id": "kX9GhoE2LeMu"
      },
      "execution_count": null,
      "outputs": []
    },
    {
      "cell_type": "code",
      "source": [
        "for num in range(100,200):\n",
        "  if num % 2 != 0:    # for odd numbers\n",
        "    print(num**2)"
      ],
      "metadata": {
        "id": "2yE-1ok3LeRY"
      },
      "execution_count": null,
      "outputs": []
    },
    {
      "cell_type": "code",
      "source": [],
      "metadata": {
        "id": "7fO7DIpOLeSL"
      },
      "execution_count": null,
      "outputs": []
    },
    {
      "cell_type": "code",
      "source": [
        "#Solution to Exercise 4:\n"
      ],
      "metadata": {
        "id": "xkhMYVVHLeU7"
      },
      "execution_count": null,
      "outputs": []
    },
    {
      "cell_type": "code",
      "source": [
        "text = input(\"Enter the text : \")\n",
        "\n",
        "num_words = len(text.split())   #splitting the text\n",
        "print(\"Number of words in the text :\",num_words)"
      ],
      "metadata": {
        "id": "YAAEblPQLeVu"
      },
      "execution_count": null,
      "outputs": []
    },
    {
      "cell_type": "code",
      "source": [],
      "metadata": {
        "id": "rUchoffeNDBs"
      },
      "execution_count": null,
      "outputs": []
    },
    {
      "cell_type": "code",
      "source": [
        "# Solution Exercise 5:"
      ],
      "metadata": {
        "id": "WNp1qSggNDCx"
      },
      "execution_count": null,
      "outputs": []
    },
    {
      "cell_type": "code",
      "source": [
        "def is_palindrome(str):\n",
        "  return str == str[::-1]\n",
        "\n",
        "print(is_palindrome(\"racecar\"))  #output will be true\n",
        "print(is_palindrome(\"string\"))   #output will be false"
      ],
      "metadata": {
        "id": "4XPGZtfENDGf"
      },
      "execution_count": null,
      "outputs": []
    },
    {
      "cell_type": "code",
      "source": [],
      "metadata": {
        "id": "_oKk512ZNDJv"
      },
      "execution_count": null,
      "outputs": []
    },
    {
      "cell_type": "code",
      "source": [],
      "metadata": {
        "id": "__nEVLk6LeZ4"
      },
      "execution_count": null,
      "outputs": []
    },
    {
      "cell_type": "code",
      "source": [],
      "metadata": {
        "id": "cPrxSDYsLeax"
      },
      "execution_count": null,
      "outputs": []
    },
    {
      "cell_type": "code",
      "source": [],
      "metadata": {
        "id": "rrPx2H4TLed1"
      },
      "execution_count": null,
      "outputs": []
    },
    {
      "cell_type": "code",
      "source": [],
      "metadata": {
        "id": "uPQ_DWX9Lees"
      },
      "execution_count": null,
      "outputs": []
    }
  ]
}